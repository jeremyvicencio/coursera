{
 "cells": [
  {
   "cell_type": "markdown",
   "id": "a8acca2b-3b5d-402c-b8cd-40f12734bafe",
   "metadata": {},
   "source": [
    "# Data Science Tools and Ecosystem"
   ]
  },
  {
   "cell_type": "markdown",
   "id": "57de171b-0fb5-4c9f-a265-3400d8877bed",
   "metadata": {},
   "source": [
    "In this notebook, Data Science Tools and Ecosystem are summarized."
   ]
  },
  {
   "cell_type": "markdown",
   "id": "cee87adb-6f06-4de3-b138-1c3efb39a2e3",
   "metadata": {},
   "source": [
    "**Objectives:**\n",
    "\n",
    "- List popular languages for Data Science\n",
    "- Describe data sets and sources of data\n",
    "- Describe how to use the notebooks in JupyterLab\n",
    "- Describe R capabilities and RStudio environment\n",
    "- Explain version control and describe the Git and GitHub environment"
   ]
  },
  {
   "cell_type": "markdown",
   "id": "99398441-3af0-4f4c-b150-eb3f9771b1d9",
   "metadata": {},
   "source": [
    "Some of the popular languages that Data Scientists use are:\n",
    "\n",
    "1. Python\n",
    "2. R\n",
    "3. Julia"
   ]
  },
  {
   "cell_type": "markdown",
   "id": "7113540a-c98a-4d30-b94e-2b3e5985b9da",
   "metadata": {},
   "source": [
    "Some of the commonly used libraries used by Data Scientists include:\n",
    "\n",
    "1. Pandas\n",
    "2. Tensorflow\n",
    "3. ggplot2"
   ]
  },
  {
   "cell_type": "markdown",
   "id": "46c819bb-5df1-46b9-abf6-6a0b53b1c72c",
   "metadata": {},
   "source": [
    "|Data Science Tools|\n",
    "|---------|\n",
    "|kubernetes|\n",
    "|Oracle Database|\n",
    "|Apache Spark|\n"
   ]
  },
  {
   "cell_type": "markdown",
   "id": "161cb6e7-7c9f-46ea-9716-9e9e3917dd04",
   "metadata": {},
   "source": [
    "### Below are a few examples of evaluating arithmetic expressions in Python"
   ]
  },
  {
   "cell_type": "code",
   "execution_count": 1,
   "id": "ff320826-9b4d-4f5a-8fc5-3f54770c497c",
   "metadata": {},
   "outputs": [
    {
     "data": {
      "text/plain": [
       "17"
      ]
     },
     "execution_count": 1,
     "metadata": {},
     "output_type": "execute_result"
    }
   ],
   "source": [
    "#This a simple arithmetic expression to mutiply then add integers\n",
    "\n",
    "(3*4)+5"
   ]
  },
  {
   "cell_type": "code",
   "execution_count": 4,
   "id": "f69a27cd-5336-498c-81fa-f58b9cce425c",
   "metadata": {},
   "outputs": [
    {
     "name": "stdout",
     "output_type": "stream",
     "text": [
      "3.3333333333333335 hours\n"
     ]
    }
   ],
   "source": [
    "#This will convert 200 minutes to hours by diving by 60\n",
    "\n",
    "x = 200/60\n",
    "print(x, \"hours\")"
   ]
  },
  {
   "cell_type": "markdown",
   "id": "5432579a-9663-4247-ba86-5c48b649823f",
   "metadata": {},
   "source": [
    "## Author\n",
    "\n",
    "Jeremy Vicencio"
   ]
  },
  {
   "cell_type": "code",
   "execution_count": null,
   "id": "a771369e-f7bc-4439-b0d6-d7ea5df3065c",
   "metadata": {},
   "outputs": [],
   "source": []
  }
 ],
 "metadata": {
  "kernelspec": {
   "display_name": "Python 3 (ipykernel)",
   "language": "python",
   "name": "python3"
  },
  "language_info": {
   "codemirror_mode": {
    "name": "ipython",
    "version": 3
   },
   "file_extension": ".py",
   "mimetype": "text/x-python",
   "name": "python",
   "nbconvert_exporter": "python",
   "pygments_lexer": "ipython3",
   "version": "3.12.0"
  }
 },
 "nbformat": 4,
 "nbformat_minor": 5
}
